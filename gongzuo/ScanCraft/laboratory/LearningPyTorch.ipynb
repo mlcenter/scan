{
 "cells": [
  {
   "cell_type": "code",
   "execution_count": 1,
   "metadata": {},
   "outputs": [],
   "source": [
    "import torch\n",
    "from torch.autograd import Variable"
   ]
  },
  {
   "cell_type": "code",
   "execution_count": 2,
   "metadata": {},
   "outputs": [
    {
     "data": {
      "text/plain": [
       "True"
      ]
     },
     "execution_count": 2,
     "metadata": {},
     "output_type": "execute_result"
    }
   ],
   "source": [
    "torch.cuda.is_available()"
   ]
  },
  {
   "cell_type": "code",
   "execution_count": 3,
   "metadata": {},
   "outputs": [],
   "source": [
    "N,D_in,H1,H2,H3,D_out=10000,3,1000,100,10,1\n",
    "x=torch.randn(N,D_in)"
   ]
  },
  {
   "cell_type": "code",
   "execution_count": 4,
   "metadata": {},
   "outputs": [],
   "source": [
    "y=x[:,0]**2+x[:,1]**2+x[:,2]**2"
   ]
  },
  {
   "cell_type": "code",
   "execution_count": 5,
   "metadata": {},
   "outputs": [],
   "source": [
    "x_in=Variable(x)\n",
    "y_out=Variable(y,requires_grad=False)"
   ]
  },
  {
   "cell_type": "code",
   "execution_count": 6,
   "metadata": {},
   "outputs": [],
   "source": [
    "x_in=x_in.cuda()\n",
    "y_out=y_out.cuda()"
   ]
  },
  {
   "cell_type": "code",
   "execution_count": 7,
   "metadata": {},
   "outputs": [],
   "source": [
    "model=torch.nn.Sequential(\n",
    "    torch.nn.Linear(D_in,H1),\n",
    "    torch.nn.ReLU(),\n",
    "    torch.nn.Linear(H1,H2),\n",
    "    torch.nn.ReLU(),\n",
    "    torch.nn.Linear(H2,H3),\n",
    "    torch.nn.ReLU(),\n",
    "    torch.nn.Linear(H3,D_out),\n",
    ")"
   ]
  },
  {
   "cell_type": "code",
   "execution_count": 11,
   "metadata": {},
   "outputs": [
    {
     "data": {
      "text/plain": [
       "Sequential (\n",
       "  (0): Linear (3 -> 1000)\n",
       "  (1): ReLU ()\n",
       "  (2): Linear (1000 -> 100)\n",
       "  (3): ReLU ()\n",
       "  (4): Linear (100 -> 10)\n",
       "  (5): ReLU ()\n",
       "  (6): Linear (10 -> 1)\n",
       ")"
      ]
     },
     "execution_count": 11,
     "metadata": {},
     "output_type": "execute_result"
    }
   ],
   "source": [
    "model.cuda()"
   ]
  },
  {
   "cell_type": "code",
   "execution_count": 12,
   "metadata": {},
   "outputs": [],
   "source": [
    "loss_fn=torch.nn.MSELoss(size_average=False)"
   ]
  },
  {
   "cell_type": "code",
   "execution_count": 13,
   "metadata": {},
   "outputs": [
    {
     "data": {
      "text/plain": [
       "Variable containing:\n",
       "  3.8461\n",
       "  2.0627\n",
       "  1.3037\n",
       "   ⋮    \n",
       "  0.1585\n",
       "  0.8199\n",
       "  0.3363\n",
       "[torch.cuda.FloatTensor of size 10000 (GPU 0)]"
      ]
     },
     "execution_count": 13,
     "metadata": {},
     "output_type": "execute_result"
    }
   ],
   "source": [
    "y_out"
   ]
  },
  {
   "cell_type": "code",
   "execution_count": 14,
   "metadata": {},
   "outputs": [
    {
     "name": "stdout",
     "output_type": "stream",
     "text": [
      "0 141470.796875\n",
      "100 6888.57568359375\n",
      "200 2619.139404296875\n",
      "300 1577.83251953125\n",
      "400 1012.814208984375\n",
      "500 700.9752197265625\n",
      "600 525.1904296875\n",
      "700 430.2028503417969\n",
      "800 342.56549072265625\n",
      "900 315.3356018066406\n",
      "1000 271.7326965332031\n",
      "1100 248.51693725585938\n",
      "1200 227.0543670654297\n",
      "1300 199.1431884765625\n",
      "1400 182.2830810546875\n",
      "1500 174.8207550048828\n",
      "1600 162.8449249267578\n",
      "1700 149.32066345214844\n",
      "1800 137.10409545898438\n",
      "1900 130.35910034179688\n",
      "2000 123.2593002319336\n",
      "2100 119.41126251220703\n",
      "2200 111.90914154052734\n",
      "2300 104.40525817871094\n",
      "2400 99.29759216308594\n",
      "2500 96.35574340820312\n",
      "2600 92.09513092041016\n",
      "2700 85.7253646850586\n",
      "2800 81.34854125976562\n",
      "2900 79.682861328125\n",
      "3000 76.3424072265625\n",
      "3100 76.41292572021484\n",
      "3200 73.49380493164062\n",
      "3300 67.93500518798828\n",
      "3400 64.74336242675781\n",
      "3500 64.65052032470703\n",
      "3600 65.14083862304688\n",
      "3700 65.4295654296875\n",
      "3800 65.25677490234375\n",
      "3900 62.499488830566406\n",
      "4000 57.36106491088867\n",
      "4100 52.9399299621582\n",
      "4200 51.37413024902344\n",
      "4300 52.47130584716797\n",
      "4400 54.958892822265625\n",
      "4500 55.41768264770508\n",
      "4600 52.04716873168945\n",
      "4700 47.4478874206543\n",
      "4800 44.264122009277344\n",
      "4900 43.95326232910156\n"
     ]
    }
   ],
   "source": [
    "for t in range(5000):\n",
    "    y_pred=model(x_in)\n",
    "    loss=loss_fn(y_pred,y_out)\n",
    "    if t%100==0: print(t,loss.data[0])\n",
    "    model.zero_grad()\n",
    "    loss.backward()\n",
    "    for param in model.parameters():\n",
    "        param.data-=0.000001*param.grad.data"
   ]
  },
  {
   "cell_type": "code",
   "execution_count": 18,
   "metadata": {},
   "outputs": [],
   "source": [
    "tryx=Variable(torch.Tensor([1,1,1])).cuda()"
   ]
  },
  {
   "cell_type": "code",
   "execution_count": 19,
   "metadata": {},
   "outputs": [
    {
     "data": {
      "text/plain": [
       "Variable containing:\n",
       " 1\n",
       " 1\n",
       " 1\n",
       "[torch.cuda.FloatTensor of size 3 (GPU 0)]"
      ]
     },
     "execution_count": 19,
     "metadata": {},
     "output_type": "execute_result"
    }
   ],
   "source": [
    "tryx"
   ]
  },
  {
   "cell_type": "code",
   "execution_count": 20,
   "metadata": {},
   "outputs": [
    {
     "data": {
      "text/plain": [
       "Variable containing:\n",
       " 2.8969\n",
       "[torch.cuda.FloatTensor of size 1 (GPU 0)]"
      ]
     },
     "execution_count": 20,
     "metadata": {},
     "output_type": "execute_result"
    }
   ],
   "source": [
    "model(tryx)"
   ]
  },
  {
   "cell_type": "code",
   "execution_count": 66,
   "metadata": {},
   "outputs": [
    {
     "data": {
      "text/plain": [
       "{'_backend': <torch.nn.backends.thnn.THNNFunctionBackend at 0x7f12fc773a58>,\n",
       " '_backward_hooks': OrderedDict(),\n",
       " '_buffers': OrderedDict(),\n",
       " '_forward_hooks': OrderedDict(),\n",
       " '_forward_pre_hooks': OrderedDict(),\n",
       " '_modules': OrderedDict([('0', Linear (3 -> 1000)),\n",
       "              ('1', ReLU ()),\n",
       "              ('2', Linear (1000 -> 100)),\n",
       "              ('3', ReLU ()),\n",
       "              ('4', Linear (100 -> 10)),\n",
       "              ('5', ReLU ()),\n",
       "              ('6', Linear (10 -> 1))]),\n",
       " '_parameters': OrderedDict(),\n",
       " 'training': True}"
      ]
     },
     "execution_count": 66,
     "metadata": {},
     "output_type": "execute_result"
    }
   ],
   "source": [
    "model.__dict__"
   ]
  },
  {
   "cell_type": "code",
   "execution_count": 22,
   "metadata": {},
   "outputs": [
    {
     "name": "stdout",
     "output_type": "stream",
     "text": [
      "Parameter containing:\n",
      " 0.1178 -0.4145 -0.5886\n",
      "-0.0769 -0.2692 -0.1712\n",
      "-0.1933 -0.2242  0.3100\n",
      "           ⋮            \n",
      " 0.2972  0.1450  0.5170\n",
      " 0.4267  0.5684 -0.3025\n",
      "-0.0293 -0.3194  0.5443\n",
      "[torch.cuda.FloatTensor of size 1000x3 (GPU 0)]\n",
      "\n",
      "Parameter containing:\n",
      "-0.0429\n",
      " 0.5888\n",
      " 0.1859\n",
      "   ⋮   \n",
      "-0.4571\n",
      "-0.4482\n",
      "-0.4832\n",
      "[torch.cuda.FloatTensor of size 1000 (GPU 0)]\n",
      "\n",
      "Parameter containing:\n",
      " 1.2718e-02 -6.3523e-03 -2.1063e-02  ...  -6.6977e-03  3.9642e-02  1.9747e-02\n",
      "-8.4174e-03 -3.0289e-02  8.0327e-03  ...   1.9449e-02  2.7951e-02  8.5700e-03\n",
      " 2.2671e-02  1.4537e-04 -4.3085e-03  ...   2.1162e-03 -1.9105e-02 -1.6010e-02\n",
      "                ...                   ⋱                   ...                \n",
      "-2.1614e-02  1.7658e-02 -2.3616e-02  ...   1.3212e-02 -3.0098e-02 -2.5102e-02\n",
      "-8.3070e-04 -4.5928e-02 -1.0632e-02  ...   4.1560e-02  5.5865e-02  3.5973e-02\n",
      " 3.1099e-02 -3.2645e-02 -1.6512e-02  ...  -1.3738e-02 -8.6138e-03 -5.4738e-03\n",
      "[torch.cuda.FloatTensor of size 100x1000 (GPU 0)]\n",
      "\n",
      "Parameter containing:\n",
      "-0.0078\n",
      "-0.0624\n",
      " 0.0163\n",
      " 0.0256\n",
      " 0.0120\n",
      "-0.0294\n",
      "-0.0533\n",
      "-0.0179\n",
      "-0.0063\n",
      " 0.0054\n",
      " 0.0005\n",
      "-0.0036\n",
      "-0.0504\n",
      "-0.0047\n",
      "-0.0279\n",
      "-0.0278\n",
      "-0.0263\n",
      "-0.0131\n",
      "-0.0642\n",
      "-0.0068\n",
      " 0.0014\n",
      "-0.0145\n",
      " 0.0297\n",
      "-0.0012\n",
      " 0.0124\n",
      "-0.0646\n",
      "-0.0336\n",
      " 0.0091\n",
      "-0.0866\n",
      " 0.0032\n",
      "-0.0010\n",
      "-0.0062\n",
      "-0.0256\n",
      " 0.0100\n",
      "-0.0274\n",
      "-0.0273\n",
      "-0.0077\n",
      " 0.0084\n",
      "-0.0111\n",
      "-0.0833\n",
      " 0.0057\n",
      " 0.0249\n",
      "-0.0424\n",
      "-0.0152\n",
      "-0.0855\n",
      "-0.0183\n",
      "-0.0253\n",
      " 0.0048\n",
      "-0.0227\n",
      " 0.0244\n",
      "-0.0145\n",
      "-0.0044\n",
      " 0.0076\n",
      "-0.0462\n",
      " 0.0074\n",
      " 0.0281\n",
      "-0.0687\n",
      "-0.0221\n",
      "-0.0636\n",
      " 0.0105\n",
      "-0.0097\n",
      " 0.0055\n",
      " 0.0103\n",
      "-0.0251\n",
      "-0.0345\n",
      "-0.0332\n",
      "-0.0454\n",
      "-0.1053\n",
      "-0.0504\n",
      " 0.0128\n",
      " 0.0179\n",
      " 0.0094\n",
      "-0.0029\n",
      " 0.0147\n",
      "-0.0280\n",
      " 0.0110\n",
      " 0.0006\n",
      "-0.0535\n",
      " 0.0279\n",
      "-0.0039\n",
      "-0.0314\n",
      " 0.0278\n",
      "-0.0039\n",
      "-0.0139\n",
      "-0.0067\n",
      "-0.0597\n",
      "-0.0074\n",
      "-0.0370\n",
      " 0.0065\n",
      "-0.0335\n",
      " 0.0146\n",
      "-0.0061\n",
      " 0.0196\n",
      " 0.0273\n",
      "-0.0180\n",
      "-0.0265\n",
      " 0.0259\n",
      "-0.0126\n",
      "-0.0669\n",
      "-0.0128\n",
      "[torch.cuda.FloatTensor of size 100 (GPU 0)]\n",
      "\n",
      "Parameter containing:\n",
      " 0.0155  0.0376 -0.0498  ...  -0.0198 -0.0306  0.0365\n",
      "-0.0422  0.0493 -0.1062  ...  -0.0844 -0.0795  0.0681\n",
      " 0.0436  0.1088  0.0166  ...  -0.0311  0.2518  0.1072\n",
      "          ...             ⋱             ...          \n",
      "-0.0482 -0.0262 -0.0154  ...  -0.0572  0.0345  0.0235\n",
      " 0.1172  0.1590 -0.0298  ...  -0.0614  0.2042  0.1435\n",
      "-0.0427 -0.0565 -0.0045  ...   0.0936 -0.0293  0.0001\n",
      "[torch.cuda.FloatTensor of size 10x100 (GPU 0)]\n",
      "\n",
      "Parameter containing:\n",
      "1.00000e-02 *\n",
      "  9.6707\n",
      "  1.2436\n",
      " -6.8542\n",
      " -4.2633\n",
      "  2.0307\n",
      " -8.9979\n",
      "  4.2248\n",
      " -2.4856\n",
      " -1.8905\n",
      " -9.1120\n",
      "[torch.cuda.FloatTensor of size 10 (GPU 0)]\n",
      "\n",
      "Parameter containing:\n",
      " 0.0028 -0.1819  0.8714  0.1533  0.1253 -0.0957 -0.2821  0.2012  0.7979 -0.0605\n",
      "[torch.cuda.FloatTensor of size 1x10 (GPU 0)]\n",
      "\n",
      "Parameter containing:\n",
      " 0.1643\n",
      "[torch.cuda.FloatTensor of size 1 (GPU 0)]\n",
      "\n"
     ]
    }
   ],
   "source": [
    "for param in model.parameters():\n",
    "    print(param)"
   ]
  },
  {
   "cell_type": "code",
   "execution_count": 23,
   "metadata": {},
   "outputs": [],
   "source": [
    "toy_model_file=open('toy_file','wb')"
   ]
  },
  {
   "cell_type": "code",
   "execution_count": 25,
   "metadata": {},
   "outputs": [],
   "source": [
    "torch.save(model,'toy')"
   ]
  },
  {
   "cell_type": "code",
   "execution_count": 26,
   "metadata": {},
   "outputs": [],
   "source": [
    "m2=torch.load('toy')"
   ]
  },
  {
   "cell_type": "code",
   "execution_count": 27,
   "metadata": {},
   "outputs": [
    {
     "data": {
      "text/plain": [
       "Variable containing:\n",
       " 2.8969\n",
       "[torch.cuda.FloatTensor of size 1 (GPU 0)]"
      ]
     },
     "execution_count": 27,
     "metadata": {},
     "output_type": "execute_result"
    }
   ],
   "source": [
    "m2(tryx)"
   ]
  },
  {
   "cell_type": "code",
   "execution_count": null,
   "metadata": {},
   "outputs": [],
   "source": []
  }
 ],
 "metadata": {
  "kernelspec": {
   "display_name": "Python 3",
   "language": "python",
   "name": "python3"
  },
  "language_info": {
   "codemirror_mode": {
    "name": "ipython",
    "version": 3
   },
   "file_extension": ".py",
   "mimetype": "text/x-python",
   "name": "python",
   "nbconvert_exporter": "python",
   "pygments_lexer": "ipython3",
   "version": "3.6.5"
  }
 },
 "nbformat": 4,
 "nbformat_minor": 2
}
