{
 "cells": [
  {
   "cell_type": "code",
   "execution_count": 1,
   "metadata": {
    "collapsed": true
   },
   "outputs": [],
   "source": [
    "#normalize=numpy.linalg.inv(numpy.diag([60,1e3,2e3,6e3,2e3,2e3,2e3,1,1,3e3,3e3,1500]))\n",
    "import sys,pandas\n",
    "sys.path.append('/home/heyangle/Desktop/ScanCraft/ScanCraft')\n",
    "from command.scan.scan import scan\n",
    "\n",
    "mold=scan(method='random')\n",
    "mold.AddScalar('tanB','MINPAR',3,1.,60.)\n",
    "mold.AddScalar('Atop','EXTPAR'   ,11  ,  -6e3    ,6e3)\n",
    "mold.AddFollower('Abottom','EXTPAR'   ,12,'Atop')\n",
    "mold.AddScalar('Lambda','EXTPAR'  ,61  ,1e-3    ,1. ,prior_distribution='exponential')\n",
    "mold.AddScalar('Kappa','EXTPAR'   ,62 ,1.e-3    ,1. ,prior_distribution='exponential')\n",
    "mold.AddScalar('A_Lambda','EXTPAR' ,63,-3.e3,3.e3)\n",
    "mold.AddScalar('A_kappa','EXTPAR' ,64,-3.e3,3.e3)\n",
    "mold.AddScalar('mu_eff','EXTPAR'  ,65,100.,1500.)"
   ]
  },
  {
   "cell_type": "code",
   "execution_count": 4,
   "metadata": {
    "collapsed": true
   },
   "outputs": [],
   "source": [
    "acc_DF=pandas.read_csv('Pylon/accepted_all.csv',header=[0,1,2,3],index_col=0)\n",
    "mh_DF=pandas.read_csv('Pylon/Higgs_mass.csv',header=[0,1,2,3],index_col=0)"
   ]
  },
  {
   "cell_type": "code",
   "execution_count": 5,
   "metadata": {
    "collapsed": true
   },
   "outputs": [],
   "source": [
    "from command.pytorch.normalize import GetRanges\n",
    "data_range=GetRanges(mold.free_parameter_list)\n",
    "acc_norm=(acc_DF.values[:,:7]-(data_range[0]+data_range[1])/2.)/(data_range[1]-data_range[0])*2"
   ]
  },
  {
   "cell_type": "code",
   "execution_count": 33,
   "metadata": {
    "collapsed": true
   },
   "outputs": [],
   "source": [
    "import numpy\n",
    "mh_log=numpy.log10(mh_DF.values)"
   ]
  },
  {
   "cell_type": "code",
   "execution_count": 34,
   "metadata": {},
   "outputs": [
    {
     "data": {
      "text/plain": [
       "array([[ 1.99445891,  3.84828885,  4.22229743],\n",
       "       [ 2.11152964,  4.485591  ,  4.55334264],\n",
       "       [ 1.73938592,  4.51086802,  4.97974624],\n",
       "       ..., \n",
       "       [ 2.09322562,  4.65758514,  4.8814204 ],\n",
       "       [ 2.23957546,  4.49416182,  4.61142361],\n",
       "       [ 2.00067699,  4.26110356,  4.76809292]])"
      ]
     },
     "execution_count": 34,
     "metadata": {},
     "output_type": "execute_result"
    }
   ],
   "source": [
    "mh_log"
   ]
  },
  {
   "cell_type": "code",
   "execution_count": 3,
   "metadata": {
    "collapsed": true
   },
   "outputs": [],
   "source": [
    "import torch\n",
    "from torch.autograd import Variable\n",
    "from torch import nn\n",
    "from torch.nn import functional as F"
   ]
  },
  {
   "cell_type": "code",
   "execution_count": 35,
   "metadata": {
    "collapsed": true
   },
   "outputs": [],
   "source": [
    "inp=Variable(torch.FloatTensor(acc_norm).cuda())\n",
    "out=Variable(torch.FloatTensor(mh_log).cuda())"
   ]
  },
  {
   "cell_type": "code",
   "execution_count": 46,
   "metadata": {},
   "outputs": [
    {
     "data": {
      "text/plain": [
       "torch.Size([11243, 3])"
      ]
     },
     "execution_count": 46,
     "metadata": {},
     "output_type": "execute_result"
    }
   ],
   "source": [
    "out.shape"
   ]
  },
  {
   "cell_type": "code",
   "execution_count": 65,
   "metadata": {
    "collapsed": true
   },
   "outputs": [],
   "source": [
    "class nn_mh(nn.Module):\n",
    "    def __init__(self,D_in,d1,d2):\n",
    "        super(nn_mh,self).__init__()\n",
    "        self.l1=torch.nn.Linear(D_in, d1)\n",
    "        self.l2=torch.nn.Linear(d1,d2)\n",
    "        self.l3=torch.nn.Linear(d2,3)\n",
    "    def forward(self,x):\n",
    "        x=self.l1(x)\n",
    "        x=self.l2(x)\n",
    "        x=F.leaky_relu(x)\n",
    "        x=self.l3(x)\n",
    "        return x"
   ]
  },
  {
   "cell_type": "code",
   "execution_count": 66,
   "metadata": {
    "collapsed": true
   },
   "outputs": [],
   "source": [
    "net=nn_mh(7,500,300).cuda()\n",
    "MSE=nn.MSELoss()\n"
   ]
  },
  {
   "cell_type": "code",
   "execution_count": 70,
   "metadata": {},
   "outputs": [
    {
     "name": "stdout",
     "output_type": "stream",
     "text": [
      "0 0.0038297511637210846\n",
      "100 0.0036436959635466337\n",
      "200 0.003596972906962037\n",
      "300 0.0035412146244198084\n",
      "400 0.003479535458609462\n",
      "500 0.0034102508798241615\n",
      "600 0.0033442822750657797\n",
      "700 0.0032752910628914833\n",
      "800 0.0032095536589622498\n",
      "900 0.003148209536448121\n"
     ]
    }
   ],
   "source": [
    "opt=torch.optim.Adam(net.parameters(),lr=0.0001)\n",
    "for i in range(1000):\n",
    "    pre=net(inp)\n",
    "    loss=MSE(pre,out)\n",
    "    if i%100==0:\n",
    "        print(i,loss.data[0])\n",
    "    opt.zero_grad()\n",
    "    loss.backward()\n",
    "    opt.step()"
   ]
  },
  {
   "cell_type": "code",
   "execution_count": 87,
   "metadata": {
    "collapsed": true
   },
   "outputs": [],
   "source": [
    "pre_array=pre.cpu().data.numpy()"
   ]
  },
  {
   "cell_type": "code",
   "execution_count": 88,
   "metadata": {},
   "outputs": [
    {
     "data": {
      "text/plain": [
       "array([[ 1.99445891,  3.84828885,  4.22229743],\n",
       "       [ 2.11152964,  4.485591  ,  4.55334264],\n",
       "       [ 1.73938592,  4.51086802,  4.97974624],\n",
       "       ..., \n",
       "       [ 2.09322562,  4.65758514,  4.8814204 ],\n",
       "       [ 2.23957546,  4.49416182,  4.61142361],\n",
       "       [ 2.00067699,  4.26110356,  4.76809292]])"
      ]
     },
     "execution_count": 88,
     "metadata": {},
     "output_type": "execute_result"
    }
   ],
   "source": [
    "mh_log"
   ]
  },
  {
   "cell_type": "code",
   "execution_count": 89,
   "metadata": {},
   "outputs": [
    {
     "data": {
      "image/png": "[encoded data removed]",
      "text/plain": [
       "<matplotlib.figure.Figure at 0x7f1e67439400>"
      ]
     },
     "metadata": {},
     "output_type": "display_data"
    }
   ],
   "source": [
    "import matplotlib.pyplot as plt\n",
    "plt.figure()\n",
    "plt.scatter(pre_array[0],pre_array[1])\n",
    "plt.scatter(mh_log[0],mh_log[1])\n",
    "plt.show()"
   ]
  },
  {
   "cell_type": "code",
   "execution_count": null,
   "metadata": {
    "collapsed": true
   },
   "outputs": [],
   "source": []
  }
 ],
 "metadata": {
  "kernelspec": {
   "display_name": "Python 3",
   "language": "python",
   "name": "python3"
  },
  "language_info": {
   "codemirror_mode": {
    "name": "ipython",
    "version": 3
   },
   "file_extension": ".py",
   "mimetype": "text/x-python",
   "name": "python",
   "nbconvert_exporter": "python",
   "pygments_lexer": "ipython3",
   "version": "3.6.5"
  }
 },
 "nbformat": 4,
 "nbformat_minor": 2
}
