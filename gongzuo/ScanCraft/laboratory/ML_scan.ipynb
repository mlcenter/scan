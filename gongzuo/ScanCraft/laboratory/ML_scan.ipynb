{
 "cells": [
  {
   "cell_type": "code",
   "execution_count": 1,
   "metadata": {},
   "outputs": [
    {
     "name": "stdout",
     "output_type": "stream",
     "text": [
      "Input mode been set\n"
     ]
    }
   ],
   "source": [
    "import sys,pandas,numpy,os\n",
    "import torch\n",
    "from torch.cuda import FloatTensor\n",
    "from torch.autograd import Variable\n",
    "from torch import nn\n",
    "from torch.nn import functional\n",
    "sys.path.append('/home/heyangle/Desktop/ScanCraft/ScanCraft')\n",
    "from command.scan.scan import scan\n",
    "from command.pytorch.normalize import GetRanges\n",
    "from command.pytorch.classify import Classify,BCEloss\n",
    "from command.pytorch.estimate import Estimate,MSELoss\n",
    "from command.pytorch.normalize import normalize#,NormalizeArray,DenormalizeArray\n",
    "from command.pytorch.variable import CudaVariableFromArray, ArrayFromCudaVariable\n",
    "\n",
    "mold=scan(method='random')\n",
    "mold.AddScalar('tanB','MINPAR',3,1.,60.)\n",
    "mold.AddScalar('Atop','EXTPAR'   ,11  ,  -6e3    ,6e3)\n",
    "mold.AddFollower('Abottom','EXTPAR'   ,12,'Atop')\n",
    "mold.AddScalar('Lambda','EXTPAR'  ,61  ,1e-3    ,1. ,prior_distribution='exponential')\n",
    "mold.AddScalar('Kappa','EXTPAR'   ,62 ,1.e-3    ,1. ,prior_distribution='exponential')\n",
    "mold.AddScalar('A_Lambda','EXTPAR' ,63,-3.e3,3.e3)\n",
    "mold.AddScalar('A_kappa','EXTPAR' ,64,-3.e3,3.e3)\n",
    "mold.AddScalar('mu_eff','EXTPAR'  ,65,100.,1500.)\n",
    "\n",
    "Norm=normalize(mold)\n",
    "print('Input mode been set')"
   ]
  },
  {
   "cell_type": "code",
   "execution_count": 2,
   "metadata": {},
   "outputs": [],
   "source": [
    "# IsCalculable=Classify(7,1000,500).cuda()\n",
    "# c_opt=torch.optim.Adam(IsCalculable.parameters(),lr=0.01)\n",
    "# EstimateMh=Estimate(7,500,300).cuda()\n",
    "# e_opt=torch.optim.Adam(EstimateMh.parameters(),lr=0.001)\n",
    "# print('NNs been set')\n",
    "\n",
    "# '''arrays of original training samples and test samples'''\n",
    "acc_train =pandas.read_csv('Pylon/accepted_train.csv',header=[0,1,2,3],index_col=0)\n",
    "exc_train =pandas.read_csv('Pylon/excluded_train.csv',header=[0,1,2,3],index_col=0)\n",
    "mh_train  =pandas.read_csv('Pylon/mass_train.csv',    header=[0,1,],   index_col=0)\n",
    "\n",
    "\n",
    "# calculable\n",
    "c_data_train  =numpy.vstack((acc_train.values,exc_train.values[:13718]))\n",
    "c_inp_train   =Norm(c_data_train[:,:7])\n",
    "c_target_train=c_data_train[:,-1].reshape((len(c_data_train),1))\n",
    "in_CV=CudaVariableFromArray(c_inp_train)\n",
    "target_CV=CudaVariableFromArray(c_target_train,requires_grad=False)\n",
    "\n",
    "# acc_test  =pandas.read_csv('laboratory/Pylon/accepted_test.csv' ,header=[0,1,2,3],index_col=0)\n",
    "# exc_test  =pandas.read_csv('laboratory/Pylon/excluded_test.csv' ,header=[0,1,2,3],index_col=0)\n",
    "# mh_test   =pandas.read_csv('laboratory/Pylon/mass_test.csv'     ,header=[0,1,],   index_col=0)\n",
    "# c_data_test   =numpy.vstack((acc_test.values,exc_test.values[:6632]))\n",
    "# c_inp_test    =Norm(c_data_test[:,:7])\n",
    "# c_target_test =c_data_test[:,-1].reshape((len(c_data_test),1))\n",
    "\n",
    "# estimate Higgs mass\n",
    "in_EV    =CudaVariableFromArray(Norm(acc_train.values[:,:-1]))\n",
    "target_EV=CudaVariableFromArray(numpy.log10(mh_train.values))"
   ]
  },
  {
   "cell_type": "code",
   "execution_count": 13,
   "metadata": {
    "scrolled": true
   },
   "outputs": [
    {
     "name": "stdout",
     "output_type": "stream",
     "text": [
      "0 0.5673403739929199\n",
      "100 0.5668604969978333\n",
      "200 0.5661951899528503\n",
      "300 0.5650193691253662\n",
      "400 0.564426600933075\n",
      "500 0.5641022324562073\n",
      "600 0.5636773109436035\n",
      "700 0.5634415149688721\n",
      "800 0.5633980631828308\n",
      "900 0.5633448362350464\n",
      "Variable containing:\n",
      " 0.5633\n",
      "[torch.cuda.FloatTensor of size 1 (GPU 0)]\n",
      "\n"
     ]
    }
   ],
   "source": [
    "for i in range(1000):\n",
    "    pred=IsCalculable(in_CV)\n",
    "    loss=BCEloss(pred,target_CV)\n",
    "    if i%100==0:\n",
    "        print(i,loss.data[0])\n",
    "    c_opt.zero_grad()\n",
    "    loss.backward()\n",
    "    c_opt.step()\n",
    "print(loss)"
   ]
  },
  {
   "cell_type": "code",
   "execution_count": 18,
   "metadata": {},
   "outputs": [
    {
     "data": {
      "text/plain": [
       "array([[ 0.99955851],\n",
       "       [ 0.99918503],\n",
       "       [ 0.99586982],\n",
       "       ..., \n",
       "       [ 0.        ],\n",
       "       [ 0.        ],\n",
       "       [ 0.        ]], dtype=float32)"
      ]
     },
     "execution_count": 18,
     "metadata": {},
     "output_type": "execute_result"
    }
   ],
   "source": [
    "pred.data.cpu().numpy()"
   ]
  },
  {
   "cell_type": "code",
   "execution_count": null,
   "metadata": {},
   "outputs": [],
   "source": []
  },
  {
   "cell_type": "code",
   "execution_count": 19,
   "metadata": {},
   "outputs": [
    {
     "name": "stdout",
     "output_type": "stream",
     "text": [
      "0 0.0047939433716237545\n",
      "100 0.004691573791205883\n",
      "200 0.004593733698129654\n",
      "300 0.004507002886384726\n",
      "400 0.004413235932588577\n",
      "500 0.004233905114233494\n",
      "600 0.004033249337226152\n",
      "700 0.003882306395098567\n",
      "800 0.0037732140626758337\n",
      "900 0.0036909659393131733\n",
      "Variable containing:\n",
      "1.00000e-03 *\n",
      "  3.5912\n",
      "[torch.cuda.FloatTensor of size 1 (GPU 0)]\n",
      "\n"
     ]
    }
   ],
   "source": [
    "for i in range(1000):\n",
    "    pred=EstimateMh(in_EV)\n",
    "    loss=MSELoss(pred,target_EV)\n",
    "    if i%100==0:\n",
    "        print(i,loss.data[0])\n",
    "    e_opt.zero_grad()\n",
    "    loss.backward()\n",
    "    e_opt.step()\n",
    "print(loss)"
   ]
  },
  {
   "cell_type": "code",
   "execution_count": 4,
   "metadata": {},
   "outputs": [],
   "source": [
    "# torch.save(IsCalculable,'IsCalculable')\n",
    "# torch.save(EstimateMh,'EstimateMh')"
   ]
  },
  {
   "cell_type": "code",
   "execution_count": 3,
   "metadata": {},
   "outputs": [],
   "source": [
    "# load models\n",
    "IsCalculable=torch.load('IsCalculable')\n",
    "EstimateMh=torch.load('EstimateMh')"
   ]
  },
  {
   "cell_type": "code",
   "execution_count": 3,
   "metadata": {},
   "outputs": [],
   "source": [
    "# # re-training models\n",
    "# acc=pandas.read_csv('out_in_the_past/output_0121/accepted.csv',header=[0,1,2,3],index_col=0)\n",
    "# exc=pandas.read_csv('out_in_the_past/output_0121/excluded.csv',header=[0,1,2,3],index_col=0)\n",
    "# mh =pandas.read_csv('out_in_the_past/output_0121/mass.csv',    header=[0,1,],   index_col=0)"
   ]
  },
  {
   "cell_type": "code",
   "execution_count": 8,
   "metadata": {},
   "outputs": [],
   "source": [
    "# data  =numpy.vstack((acc.values,exc.values))\n",
    "# in_CV    =CudaVariableFromArray(Norm(data[:,:7]))\n",
    "# target_CV=CudaVariableFromArray(data[:,-1].reshape(len(data),1),requires_grad=False)\n",
    "# in_EV    =CudaVariableFromArray(Norm(acc.values[:,:-1]))\n",
    "# target_EV=CudaVariableFromArray(numpy.log10(mh.values))"
   ]
  },
  {
   "cell_type": "code",
   "execution_count": 9,
   "metadata": {},
   "outputs": [],
   "source": [
    "# c_opt=torch.optim.Adam(IsCalculable.parameters(),lr=0.001)\n",
    "# e_opt=torch.optim.Adam(EstimateMh.parameters(),lr=0.0001)"
   ]
  },
  {
   "cell_type": "code",
   "execution_count": 3,
   "metadata": {},
   "outputs": [],
   "source": []
  },
  {
   "cell_type": "code",
   "execution_count": 4,
   "metadata": {},
   "outputs": [],
   "source": [
    "# generate new input to run in NMTools\n",
    "new_tf=FloatTensor(0)\n",
    "mh_0=FloatTensor([95.,125.,95.])\n",
    "while len(new_tf)<8000:\n",
    "    #1 million random input points\n",
    "    random_tf=FloatTensor(100000,7)\n",
    "    nn.init.uniform(random_tf,a=-1,b=1)\n",
    "    pred_tf=IsCalculable(Variable(random_tf)).data\n",
    "    calculable_tf=random_tf[torch.nonzero(pred_tf>0.5)[:,0]]# calculable input points\n",
    "    lg_mh_tf=EstimateMh(Variable(calculable_tf)).data\n",
    "    mh_tf=torch.pow(10.,lg_mh_tf)# higgs mass : h1, h2, A1\n",
    "    D_mh=mh_tf-mh_0# mi - m0\n",
    "    x2=torch.min(D_mh[:,0::2]**2,1)[0]+D_mh[:,1]**2\n",
    "    D_x2=x2-torch.min(x2)\n",
    "    like=torch.exp(-10.*D_x2/torch.mean(D_x2)) # rescaled likelyhood\n",
    "    threshold=nn.init.uniform(torch.zeros_like(like))\n",
    "    passengers=calculable_tf[torch.nonzero(like>threshold)[:,0]]\n",
    "    new_tf=torch.cat((new_tf,passengers),dim=0)\n",
    "\n",
    "# random points\n",
    "additional=nn.init.uniform(FloatTensor(2000,7))\n",
    "new_tf=torch.cat((new_tf,additional),dim=0)\n",
    "new_array=Norm.D(new_tf.cpu().numpy())"
   ]
  },
  {
   "cell_type": "code",
   "execution_count": 21,
   "metadata": {},
   "outputs": [
    {
     "data": {
      "text/plain": [
       "array([[  3.34065487e+01,  -1.78097856e+03,   1.14706851e-01, ...,\n",
       "         -2.66759437e+03,  -1.72237515e+03,   1.28701957e+03],\n",
       "       [  5.72895797e+01,  -5.50138593e+03,   1.64020327e-01, ...,\n",
       "          1.28730977e+03,  -5.69197297e+02,   1.44921396e+03],\n",
       "       [  5.80161492e+01,  -1.36236763e+03,   5.96447186e-01, ...,\n",
       "          2.98696053e+03,  -2.51109838e+02,   1.37226084e+03],\n",
       "       ..., \n",
       "       [  5.61821158e+01,   2.60786247e+03,   5.75477269e-01, ...,\n",
       "          1.93214607e+03,   2.96627283e+03,   1.45259187e+03],\n",
       "       [  3.49791104e+01,   2.32970881e+03,   7.78535680e-01, ...,\n",
       "          1.03331280e+03,   1.30863583e+03,   1.28076584e+03],\n",
       "       [  5.49992403e+01,   4.17529821e+02,   5.70247487e-01, ...,\n",
       "          2.08280182e+03,   1.70637918e+03,   1.36832609e+03]])"
      ]
     },
     "execution_count": 21,
     "metadata": {},
     "output_type": "execute_result"
    }
   ],
   "source": [
    "new_array"
   ]
  },
  {
   "cell_type": "code",
   "execution_count": 5,
   "metadata": {},
   "outputs": [
    {
     "name": "stdout",
     "output_type": "stream",
     "text": [
      "delete folder ./output? (y/n) \n",
      "\n"
     ]
    }
   ],
   "source": [
    "from command.multi_thread.MT_NTools import MT_NTools\n",
    "from command.data_transformer.InputListToPandas import InputListToPandas as I2P\n",
    "from command.data_transformer.ArrayToInputQueue import ArrayToInputQueue as a2Q\n",
    "MTN=MT_NTools(threads=7)"
   ]
  },
  {
   "cell_type": "code",
   "execution_count": 6,
   "metadata": {},
   "outputs": [],
   "source": [
    "Queue=a2Q(new_array,mold)"
   ]
  },
  {
   "cell_type": "code",
   "execution_count": 7,
   "metadata": {
    "scrolled": true
   },
   "outputs": [
    {
     "name": "stdout",
     "output_type": "stream",
     "text": [
      "Calculations begin at Tue Jan 23 15:12:28 2018\n",
      "  threads:\t7\n",
      "  points:\t10052\n",
      "  thread-0\truning,    10000 points left at Tue Jan 23 15:12:32 2018\n",
      "  thread-1\truning,     9000 points left at Tue Jan 23 15:13:50 2018\n",
      "  thread-2\truning,     8000 points left at Tue Jan 23 15:15:16 2018\n",
      "  thread-0\truning,     7000 points left at Tue Jan 23 15:16:34 2018\n",
      "  thread-0\truning,     6000 points left at Tue Jan 23 15:17:59 2018\n",
      "  thread-1\truning,     5000 points left at Tue Jan 23 15:19:36 2018\n",
      "  thread-5\truning,     4000 points left at Tue Jan 23 15:21:28 2018\n",
      "  thread-2\truning,     3000 points left at Tue Jan 23 15:22:46 2018\n",
      "  thread-1\truning,     2000 points left at Tue Jan 23 15:24:11 2018\n",
      "  thread-2\truning,     1000 points left at Tue Jan 23 15:24:37 2018\n",
      "  thread-3\truning,        0 points left at Tue Jan 23 15:25:03 2018\n",
      "1 stop2\n",
      " stop\n",
      "5 stop6\n",
      " stop\n",
      "0 stop\n",
      "4 stop\n",
      "3 stop\n",
      "All points done. Use 0.209607 hours\n",
      "3551 sample recorded in ./output/record_180123_152503\n"
     ]
    }
   ],
   "source": [
    "MTN.Run(Queue)"
   ]
  },
  {
   "cell_type": "code",
   "execution_count": 20,
   "metadata": {},
   "outputs": [
    {
     "data": {
      "text/plain": [
       "dict_keys(['output_dir', 'input_mold', 'threads', 'work_space', 'package_mold', 'NT', 'sample_list', 'accepted_list', 'excluded_list', 'record_dir'])"
      ]
     },
     "execution_count": 20,
     "metadata": {},
     "output_type": "execute_result"
    }
   ],
   "source": [
    "MTN.__dict__.keys()"
   ]
  },
  {
   "cell_type": "code",
   "execution_count": 21,
   "metadata": {},
   "outputs": [
    {
     "data": {
      "text/plain": [
       "'./output/record_180121_143249'"
      ]
     },
     "execution_count": 21,
     "metadata": {},
     "output_type": "execute_result"
    }
   ],
   "source": [
    "MTN.record_dir"
   ]
  },
  {
   "cell_type": "code",
   "execution_count": 22,
   "metadata": {},
   "outputs": [
    {
     "data": {
      "text/plain": [
       "3670"
      ]
     },
     "execution_count": 22,
     "metadata": {},
     "output_type": "execute_result"
    }
   ],
   "source": [
    "len(MTN.accepted_list)"
   ]
  },
  {
   "cell_type": "code",
   "execution_count": 23,
   "metadata": {},
   "outputs": [],
   "source": [
    "acc=I2P(MTN.accepted_list,title='accepted')"
   ]
  },
  {
   "cell_type": "code",
   "execution_count": 26,
   "metadata": {},
   "outputs": [],
   "source": [
    "acc[('flags','binary','1/0_is/not','calculable')]=1\n",
    "acc.to_csv(os.path.join(MTN.output_dir,'accepted.csv'))"
   ]
  },
  {
   "cell_type": "code",
   "execution_count": 27,
   "metadata": {},
   "outputs": [],
   "source": [
    "exc=I2P(MTN.excluded_list,title='excluded')\n",
    "exc[('flags','binary','1/0_is/not','calculable')]=0\n",
    "exc.to_csv(os.path.join(MTN.output_dir,'excluded.csv'))"
   ]
  },
  {
   "cell_type": "code",
   "execution_count": 28,
   "metadata": {},
   "outputs": [
    {
     "name": "stdout",
     "output_type": "stream",
     "text": [
      "width= {178}\n"
     ]
    }
   ],
   "source": [
    "from command.data_transformer.SpectrumToPandas import SpectrumToPandas as S2P\n",
    "spc=S2P(MTN.sample_list)"
   ]
  },
  {
   "cell_type": "code",
   "execution_count": 31,
   "metadata": {},
   "outputs": [],
   "source": [
    "mass=spc[('spectrum','MASS')][['25','35','36']]\n",
    "mass.to_csv(os.path.join(MTN.output_dir,'mass.csv'))"
   ]
  },
  {
   "cell_type": "code",
   "execution_count": 32,
   "metadata": {},
   "outputs": [
    {
     "data": {
      "text/plain": [
       "dict_keys(['DECAY', 'SPINFO', 'MODSEL', 'SMINPUTS', 'MINPAR', 'EXTPAR', 'MASS', 'LOWEN', 'HMIX', 'NMHMIX', 'NMAMIX', 'STOPMIX', 'SBOTMIX', 'STAUMIX', 'NMNMIX', 'UMIX', 'VMIX', 'REDCOUP', 'HIGGSBOUNDSINPUTHIGGSCOUPLINGSBOSONS', 'HIGGSBOUNDSINPUTHIGGSCOUPLINGSFERMIONS', 'GAUGE', 'YU', 'YD', 'YE', 'AU', 'TU', 'AD', 'TD', 'AE', 'TE', 'MSOFT', 'NMSSMRUN', 'MSQ2', 'MSU2', 'MSD2', 'MSL2', 'MSE2', 'USQMIX', 'DSQMIX', 'SELMIX', 'GUTGAUGE', 'GUTYU', 'GUTYD', 'GUTYE', 'GUTAU', 'GUTAD', 'GUTAE', 'GUTMSOFT', 'GUTNMSSMRUN', 'FINETUNING', 'LHCCROSSSECTIONS', 'LHCFIT', 'EFFECTIVE_COUPLINGS', 'DCINFO', 'ERROR', 'constraints', 'documents'])"
      ]
     },
     "execution_count": 32,
     "metadata": {},
     "output_type": "execute_result"
    }
   ],
   "source": [
    "MTN.sample_list[0].__dict__.keys()"
   ]
  },
  {
   "cell_type": "code",
   "execution_count": 33,
   "metadata": {},
   "outputs": [
    {
     "data": {
      "text/plain": [
       "['# Excluded by ee -> hZ, h -> bb',\n",
       " '# Excluded by ee -> hZ, h -> tautau',\n",
       " '# Excluded by ee -> hZ, h -> 2jets',\n",
       " '# Delta M_s more than 2 sigma away',\n",
       " '# Muon magn. mom. more than 2 sigma away',\n",
       " '# No Higgs in the 122.1-128.1 GeV mass range',\n",
       " '# Excluded by ggF->H/A->gamgam (ATLAS)',\n",
       " '# b -> c tau nu more than 2 sigma away (as SM)']"
      ]
     },
     "execution_count": 33,
     "metadata": {},
     "output_type": "execute_result"
    }
   ],
   "source": [
    "MTN.sample_list[0].constraints"
   ]
  },
  {
   "cell_type": "code",
   "execution_count": null,
   "metadata": {},
   "outputs": [],
   "source": []
  }
 ],
 "metadata": {
  "kernelspec": {
   "display_name": "Python 3",
   "language": "python",
   "name": "python3"
  },
  "language_info": {
   "codemirror_mode": {
    "name": "ipython",
    "version": 3
   },
   "file_extension": ".py",
   "mimetype": "text/x-python",
   "name": "python",
   "nbconvert_exporter": "python",
   "pygments_lexer": "ipython3",
   "version": "3.6.7"
  }
 },
 "nbformat": 4,
 "nbformat_minor": 2
}
