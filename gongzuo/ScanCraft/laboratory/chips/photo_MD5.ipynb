{
 "cells": [
  {
   "cell_type": "code",
   "execution_count": 2,
   "metadata": {},
   "outputs": [],
   "source": [
    "import exifread"
   ]
  },
  {
   "cell_type": "code",
   "execution_count": 3,
   "metadata": {},
   "outputs": [],
   "source": [
    "import os"
   ]
  },
  {
   "cell_type": "code",
   "execution_count": 4,
   "metadata": {},
   "outputs": [
    {
     "name": "stdout",
     "output_type": "stream",
     "text": [
      "bad_new.csv\t\t Kappa_M.png\t O_M_N15.png\t Untitled.ipynb\r\n",
      "data_new.csv\t\t O_M_Kappa.png\t O_M.png\r\n",
      "good_new.csv\t\t O_M_Lambda.png  O_M_tanb.png\r\n",
      "IMG_20180202_110439.jpg  O_M_N11.png\t plot_GCE.ipynb\r\n"
     ]
    }
   ],
   "source": [
    "!ls"
   ]
  },
  {
   "cell_type": "code",
   "execution_count": 38,
   "metadata": {},
   "outputs": [],
   "source": [
    "f=open('IMG_20180202_110439.jpg','rb')"
   ]
  },
  {
   "cell_type": "code",
   "execution_count": 39,
   "metadata": {},
   "outputs": [],
   "source": [
    "tags=exifread.process_file(f)#,stop_tag='DateTimeOriginal')"
   ]
  },
  {
   "cell_type": "code",
   "execution_count": 42,
   "metadata": {},
   "outputs": [],
   "source": [
    "t=tags['EXIF DateTimeOriginal']"
   ]
  },
  {
   "cell_type": "code",
   "execution_count": 41,
   "metadata": {},
   "outputs": [
    {
     "name": "stdout",
     "output_type": "stream",
     "text": [
      "Key: Image Make, value OnePlus\n",
      "Key: Image Model, value ONEPLUS A3000\n",
      "Key: Image XResolution, value 72\n",
      "Key: Image YResolution, value 72\n",
      "Key: Image ResolutionUnit, value Pixels/Inch\n",
      "Key: Image Software, value OnePlus3-user 8.0.0, ... ]\n",
      "Key: Image DateTime, value 2018:02:02 11:04:41\n",
      "Key: Image YCbCrPositioning, value Centered\n",
      "Key: Image ExifOffset, value 244\n",
      "Key: GPS GPSAltitudeRef, value 2\n",
      "Key: Image GPSInfo, value 754\n",
      "Key: Thumbnail Compression, value JPEG (old-style)\n",
      "Key: Thumbnail XResolution, value 72\n",
      "Key: Thumbnail YResolution, value 72\n",
      "Key: Thumbnail ResolutionUnit, value Pixels/Inch\n",
      "Key: Thumbnail JPEGInterchangeFormat, value 874\n",
      "Key: Thumbnail JPEGInterchangeFormatLength, value 10620\n",
      "Key: EXIF ExposureTime, value 1/17\n",
      "Key: EXIF FNumber, value 2\n",
      "Key: EXIF ExposureProgram, value Unidentified\n",
      "Key: EXIF ISOSpeedRatings, value 2000\n",
      "Key: EXIF ExifVersion, value 0220\n",
      "Key: EXIF DateTimeOriginal, value 2018:02:02 11:04:41\n",
      "Key: EXIF DateTimeDigitized, value 2018:02:02 11:04:41\n",
      "Key: EXIF ComponentsConfiguration, value YCbCr\n",
      "Key: EXIF ShutterSpeedValue, value 2029/500\n",
      "Key: EXIF ApertureValue, value 2\n",
      "Key: EXIF BrightnessValue, value 0\n",
      "Key: EXIF MeteringMode, value Spot\n",
      "Key: EXIF Flash, value Flash did not fire, compulsory flash mode\n",
      "Key: EXIF FocalLength, value 213/50\n",
      "Key: EXIF SubSecTime, value 035404\n",
      "Key: EXIF SubSecTimeOriginal, value 035404\n",
      "Key: EXIF SubSecTimeDigitized, value 035404\n",
      "Key: EXIF FlashPixVersion, value 0100\n",
      "Key: EXIF ColorSpace, value sRGB\n",
      "Key: EXIF ExifImageWidth, value 3480\n",
      "Key: EXIF ExifImageLength, value 4640\n",
      "Key: Interoperability InteroperabilityIndex, value R98\n",
      "Key: Interoperability InteroperabilityVersion, value [48, 49, 48, 48]\n",
      "Key: EXIF InteroperabilityOffset, value 723\n",
      "Key: EXIF SensingMethod, value One-chip color area\n",
      "Key: EXIF SceneType, value Directly Photographed\n",
      "Key: EXIF ExposureMode, value Auto Exposure\n",
      "Key: EXIF WhiteBalance, value Auto\n",
      "Key: EXIF FocalLengthIn35mmFilm, value 28\n",
      "Key: EXIF SceneCaptureType, value Standard\n"
     ]
    }
   ],
   "source": [
    "for tag in tags.keys():\n",
    "    if tag not in ('JPEGThumbnail', 'TIFFThumbnail', 'Filename', 'EXIF MakerNote'):\n",
    "        print (\"Key: %s, value %s\"%(tag, tags[tag]))"
   ]
  },
  {
   "cell_type": "code",
   "execution_count": 43,
   "metadata": {},
   "outputs": [
    {
     "data": {
      "text/plain": [
       "'2018:02:02 11:04:41'"
      ]
     },
     "execution_count": 43,
     "metadata": {},
     "output_type": "execute_result"
    }
   ],
   "source": [
    "t.values"
   ]
  },
  {
   "cell_type": "code",
   "execution_count": 45,
   "metadata": {},
   "outputs": [],
   "source": [
    "import hashlib"
   ]
  },
  {
   "cell_type": "code",
   "execution_count": 58,
   "metadata": {},
   "outputs": [],
   "source": [
    "md5=hashlib.md5(f.read())"
   ]
  },
  {
   "cell_type": "code",
   "execution_count": 59,
   "metadata": {},
   "outputs": [
    {
     "data": {
      "text/plain": [
       "'221024ff072304576a9cbd7100baea8e'"
      ]
     },
     "execution_count": 59,
     "metadata": {},
     "output_type": "execute_result"
    }
   ],
   "source": [
    "md5.hexdigest()"
   ]
  },
  {
   "cell_type": "code",
   "execution_count": null,
   "metadata": {},
   "outputs": [],
   "source": []
  }
 ],
 "metadata": {
  "kernelspec": {
   "display_name": "Python 3",
   "language": "python",
   "name": "python3"
  },
  "language_info": {
   "codemirror_mode": {
    "name": "ipython",
    "version": 3
   },
   "file_extension": ".py",
   "mimetype": "text/x-python",
   "name": "python",
   "nbconvert_exporter": "python",
   "pygments_lexer": "ipython3",
   "version": "3.6.5"
  }
 },
 "nbformat": 4,
 "nbformat_minor": 2
}
