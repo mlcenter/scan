{
 "cells": [
  {
   "cell_type": "code",
   "execution_count": 3,
   "metadata": {},
   "outputs": [],
   "source": [
    "import numpy\n",
    "\n",
    "def reduce(data,density=1000.):\n",
    "    scope=[(max(c)-min(c))/density/2. for c in [data[:,i] for i in range(data.shape[1])]]\n",
    "#     print(scope)\n",
    "    saved=[]\n",
    "    for i,row in enumerate(data):\n",
    "        saved.append(\n",
    "            all([ all(abs(row-rowi_)>scope) or (not saved[i_]) for i_,rowi_ in enumerate(data[:i]) ])\n",
    "        )\n",
    "    return saved\n",
    "        \n",
    "data0=numpy.loadtxt('MCMCData.txt',dtype=bytes).astype(str)\n",
    "saved=reduce(data0[:,:5].astype(float),density=200)\n",
    "data=data0[saved]"
   ]
  },
  {
   "cell_type": "code",
   "execution_count": 2,
   "metadata": {},
   "outputs": [
    {
     "data": {
      "image/png": "[encoded data removed]",
      "text/plain": [
       "<matplotlib.figure.Figure at 0x7f171d191630>"
      ]
     },
     "metadata": {},
     "output_type": "display_data"
    }
   ],
   "source": [
    "import matplotlib.pyplot as plt\n",
    "plt.scatter(data[:,0].astype(float),data[:,3].astype(float))\n",
    "plt.show()"
   ]
  },
  {
   "cell_type": "code",
   "execution_count": null,
   "metadata": {},
   "outputs": [],
   "source": []
  }
 ],
 "metadata": {
  "kernelspec": {
   "display_name": "Python 3",
   "language": "python",
   "name": "python3"
  },
  "language_info": {
   "codemirror_mode": {
    "name": "ipython",
    "version": 3
   },
   "file_extension": ".py",
   "mimetype": "text/x-python",
   "name": "python",
   "nbconvert_exporter": "python",
   "pygments_lexer": "ipython3",
   "version": "3.6.3"
  }
 },
 "nbformat": 4,
 "nbformat_minor": 2
}
